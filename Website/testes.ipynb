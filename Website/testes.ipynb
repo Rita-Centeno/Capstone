{
 "cells": [
  {
   "cell_type": "code",
   "execution_count": 8,
   "metadata": {},
   "outputs": [],
   "source": [
    "from countries import hdi_dict"
   ]
  },
  {
   "cell_type": "code",
   "execution_count": 9,
   "metadata": {},
   "outputs": [
    {
     "data": {
      "text/plain": [
       "dict_keys(['Norway', 'Australia', 'Switzerland', 'Denmark', 'Netherlands', 'Germany', 'Ireland', 'United States', 'Canada', 'New Zealand', 'Singapore', 'Hong Kong, China (SAR)', 'Liechtenstein', 'Sweden', 'United Kingdom', 'Iceland', 'Korea (Republic of)', 'Israel', 'Luxembourg', 'Japan', 'Belgium', 'France', 'Austria', 'Finland', 'Slovenia', 'Spain', 'Italy', 'Czech Republic', 'Greece', 'Estonia', 'Brunei Darussalam', 'Cyprus', 'Qatar', 'Andorra', 'Slovakia', 'Poland', 'Lithuania', 'Malta', 'Saudi Arabia', 'Argentina', 'United Arab Emirates', 'Chile', 'Portugal', 'Hungary', 'Bahrain', 'Latvia', 'Croatia', 'Kuwait', 'Montenegro', 'Belarus', 'Russian Federation', 'Oman', 'Romania', 'Uruguay', 'Bahamas', 'Kazakhstan', 'Barbados', 'Antigua and Barbuda', 'Bulgaria', 'Palau', 'Panama', 'Malaysia', 'Mauritius', 'Seychelles', 'Trinidad and Tobago', 'Serbia', 'Cuba', 'Lebanon', 'Costa Rica', 'Iran (Islamic Republic of)', 'Venezuela (Bolivarian Republic of)', 'Turkey', 'Sri Lanka', 'Mexico', 'Brazil', 'Georgia', 'Saint Kitts and Nevis', 'Azerbaijan', 'Grenada', 'Jordan', 'The former Yugoslav Republic of Macedonia', 'Ukraine', 'Algeria', 'Peru', 'Albania', 'Armenia', 'Bosnia and Herzegovina', 'Ecuador', 'Saint Lucia', 'China', 'Fiji', 'Mongolia', 'Thailand', 'Dominica', 'Libya', 'Tunisia', 'Colombia', 'Saint Vincent and the Grenadines', 'Jamaica', 'Tonga', 'Belize', 'Dominican Republic', 'Suriname', 'Maldives', 'Samoa', 'Botswana', 'Moldova (Republic of)', 'Egypt', 'Turkmenistan', 'Gabon', 'Indonesia', 'Paraguay', 'Palestine, State of', 'Uzbekistan', 'Philippines', 'El Salvador', 'South Africa', 'Viet Nam', 'Bolivia (Plurinational State of)', 'Kyrgyzstan', 'Iraq', 'Cabo Verde', 'Micronesia (Federated States of)', 'Guyana', 'Nicaragua', 'Morocco', 'Namibia', 'Guatemala', 'Tajikistan', 'India', 'Honduras', 'Bhutan', 'Timor-Leste', 'Syrian Arab Republic', 'Vanuatu', 'Congo', 'Kiribati', 'Equatorial Guinea', 'Zambia', 'Ghana', \"Lao People's Democratic Republic\", 'Bangladesh', 'Cambodia', 'Sao Tome and Principe', 'Kenya', 'Nepal', 'Pakistan', 'Myanmar', 'Angola', 'Swaziland', 'Tanzania (United Republic of)', 'Nigeria', 'Cameroon', 'Madagascar', 'Zimbabwe', 'Mauritania', 'Solomon Islands', 'Papua New Guinea', 'Comoros', 'Yemen', 'Lesotho', 'Togo', 'Haiti', 'Rwanda', 'Uganda', 'Benin', 'Sudan', 'Djibouti', 'South Sudan', 'Senegal', 'Afghanistan', \"Côte d'Ivoire\", 'Malawi', 'Ethiopia', 'Gambia', 'Congo (Democratic Republic of the)', 'Liberia', 'Guinea-Bissau', 'Mali', 'Mozambique', 'Sierra Leone', 'Guinea', 'Burkina Faso', 'Burundi', 'Chad', 'Eritrea', 'Central African Republic', 'Niger'])"
      ]
     },
     "execution_count": 9,
     "metadata": {},
     "output_type": "execute_result"
    }
   ],
   "source": [
    "hdi_dict.keys()"
   ]
  }
 ],
 "metadata": {
  "kernelspec": {
   "display_name": "capstone",
   "language": "python",
   "name": "python3"
  },
  "language_info": {
   "codemirror_mode": {
    "name": "ipython",
    "version": 3
   },
   "file_extension": ".py",
   "mimetype": "text/x-python",
   "name": "python",
   "nbconvert_exporter": "python",
   "pygments_lexer": "ipython3",
   "version": "3.11.5"
  }
 },
 "nbformat": 4,
 "nbformat_minor": 2
}
