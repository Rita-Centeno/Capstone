{
 "cells": [
  {
   "cell_type": "code",
   "execution_count": 7,
   "metadata": {},
   "outputs": [
    {
     "name": "stdout",
     "output_type": "stream",
     "text": [
      "sk-1vZwyXUPgRnFwjGVxTgzT3BlbkFJ3FPqf\n"
     ]
    },
    {
     "data": {
      "text/html": [
       "\n",
       "✅ Libraries loaded successfully <br>\n",
       "✅ OpenAI Key loaded (...PgRnFwjGVxTgzT3BlbkFJ3FPqf...)\n"
      ],
      "text/plain": [
       "<IPython.core.display.HTML object>"
      ]
     },
     "metadata": {},
     "output_type": "display_data"
    }
   ],
   "source": [
    "import PyPDF2\n",
    "from PyPDF2 import PdfReader\n",
    "from langchain.llms import OpenAI\n",
    "from langchain.embeddings.openai import OpenAIEmbeddings\n",
    "from langchain.text_splitter import CharacterTextSplitter\n",
    "from langchain.vectorstores import FAISS\n",
    "from langchain.chains.question_answering import load_qa_chain\n",
    "\n",
    "from IPython.display import display, HTML\n",
    "\n",
    "from util import local_settings\n",
    "\n",
    "display(HTML(f\"\"\"\n",
    "✅ Libraries loaded successfully <br>\n",
    "✅ OpenAI Key loaded (...{local_settings.OPENAI_API_KEY[10:-15]}...)\n",
    "\"\"\"))"
   ]
  },
  {
   "cell_type": "code",
   "execution_count": 8,
   "metadata": {},
   "outputs": [],
   "source": [
    "pdf_data = PdfReader(\"C:\\\\Users\\\\catio\\\\Downloads\\\\meds.pdf\")\n",
    "pdf_text = \"\"\n",
    "\n",
    "for i, page in enumerate(pdf_data.pages):\n",
    "    text = page.extract_text()\n",
    "    if text:\n",
    "        pdf_text += text\n",
    "\n",
    "#print(len(pdf_text))"
   ]
  },
  {
   "cell_type": "code",
   "execution_count": 10,
   "metadata": {},
   "outputs": [
    {
     "name": "stdout",
     "output_type": "stream",
     "text": [
      "----- response -----\n",
      "\n",
      "\n",
      "I don't know.\n"
     ]
    }
   ],
   "source": [
    "llm = OpenAI(model_name =\"gpt-3.5-turbo-instruct\", openai_api_key = local_settings.OPENAI_API_KEY)\n",
    "\n",
    "medicine = \"varfarina\"\n",
    "\n",
    "prompt = f\" When should I not take {medicine}? Answer 'I don't know' if you don't know.\"\n",
    "\n",
    "response = llm(prompt, temperature = 0)\n",
    "\n",
    "print(\"----- response -----\")\n",
    "print(response.replace(\"Langchain\", \"\"))"
   ]
  },
  {
   "cell_type": "code",
   "execution_count": 4,
   "metadata": {},
   "outputs": [
    {
     "name": "stderr",
     "output_type": "stream",
     "text": [
      "Created a chunk of size 702, which is longer than the specified 700\n",
      "Created a chunk of size 778, which is longer than the specified 700\n",
      "Created a chunk of size 794, which is longer than the specified 700\n",
      "Created a chunk of size 774, which is longer than the specified 700\n",
      "Created a chunk of size 707, which is longer than the specified 700\n",
      "Created a chunk of size 1145, which is longer than the specified 700\n",
      "Created a chunk of size 1459, which is longer than the specified 700\n",
      "Created a chunk of size 1601, which is longer than the specified 700\n",
      "Created a chunk of size 1451, which is longer than the specified 700\n",
      "Created a chunk of size 1268, which is longer than the specified 700\n",
      "Created a chunk of size 1631, which is longer than the specified 700\n",
      "Created a chunk of size 1586, which is longer than the specified 700\n",
      "Created a chunk of size 1454, which is longer than the specified 700\n",
      "Created a chunk of size 1261, which is longer than the specified 700\n",
      "Created a chunk of size 1742, which is longer than the specified 700\n",
      "Created a chunk of size 1343, which is longer than the specified 700\n",
      "Created a chunk of size 1384, which is longer than the specified 700\n",
      "Created a chunk of size 1266, which is longer than the specified 700\n",
      "Created a chunk of size 780, which is longer than the specified 700\n"
     ]
    },
    {
     "name": "stdout",
     "output_type": "stream",
     "text": [
      "\n",
      "    # of Chunks: 1437\n",
      "    Chunk 0: APROVADO EM \n",
      " 06-04-2023  INFARMED \n",
      " \n",
      " Folheto informativo: Informação para o doente \n",
      " \n",
      "Varfine 5 mg comprimidos \n",
      "varfarina \n",
      "  \n",
      "Leia com atenção todo este folheto antes de começar a tomar este medicamento, pois\n",
      "    Chunk 1: varfarina \n",
      "  \n",
      "Leia com atenção todo este folheto antes de começar a tomar este medicamento, pois \n",
      "contém informação importante para si. - Conserve este folheto. Pode ter necessidade de o ler novamente.  - Caso ainda tenha dúvidas, fale com o seu médico ou farmacêutico. - Este medicamento foi receitado apenas para si. Não deve dá-lo a outros. O medicamento pode ser-lhes prejudicial mesmo que apresentem os mesmos sinais de doença. - Se tiver quaisquer efeitos indesejáveis, incluindo possíveis efeitos indesejáveis não indicados neste folheto, fale com o seu médico ou farmacêutico ou enfermeiro. Ver secção 4.  O que contém este folheto: \n",
      "1. O que é Varfine e para que é utilizado\n",
      "\n"
     ]
    }
   ],
   "source": [
    "text_splitter = CharacterTextSplitter(\n",
    "    separator = \"\\n\",\n",
    "    chunk_size = 700,\n",
    "    chunk_overlap = 100\n",
    ")\n",
    "\n",
    "final_data = text_splitter.split_text(pdf_text)\n",
    "\n",
    "print(f\"\"\"\n",
    "    # of Chunks: {len(final_data)}\n",
    "    Chunk 0: {final_data[0]}\n",
    "    Chunk 1: {final_data[1]}\n",
    "\"\"\")"
   ]
  },
  {
   "cell_type": "code",
   "execution_count": 5,
   "metadata": {},
   "outputs": [],
   "source": [
    "embeddings = OpenAIEmbeddings()\n",
    "# emmbedinng the final_data, and group them according to similarity (Faiss- VectorDB)\n",
    "document_searcher = FAISS.from_texts(final_data, embeddings)\n",
    "# retrieves all the chunks (chain_type = stuff) that are similar to the question\n",
    "chain = load_qa_chain(OpenAI(), chain_type=\"stuff\")\n"
   ]
  },
  {
   "cell_type": "code",
   "execution_count": 6,
   "metadata": {},
   "outputs": [
    {
     "name": "stdout",
     "output_type": "stream",
     "text": [
      "--- 🤖 RESULT ---\n",
      " You should not take Varfine if you have an allergy to the active substance or any of the other components of this medication, if you are pregnant (especially during the first and last three months of pregnancy) or think you might be pregnant or have had a baby in the last 48 hours, if you have or have had any bleeding problems, if you have recently had a stroke (bleeding in the brain), or if you have undergone surgery in the last 72 hours or will be undergoing surgery in the next 72 hours.\n"
     ]
    }
   ],
   "source": [
    "medicine = \"varfarina\"\n",
    "\n",
    "prompt = f\" When should I not take {medicine}? Answer 'I don't know' if you don't know.\"\n",
    "\n",
    "docs =  document_searcher.similarity_search(prompt)\n",
    "result = chain.run(input_documents=docs, question=prompt)\n",
    "\n",
    "print(\"--- 🤖 RESULT ---\")\n",
    "print(result)"
   ]
  }
 ],
 "metadata": {
  "kernelspec": {
   "display_name": "capstone",
   "language": "python",
   "name": "python3"
  },
  "language_info": {
   "codemirror_mode": {
    "name": "ipython",
    "version": 3
   },
   "file_extension": ".py",
   "mimetype": "text/x-python",
   "name": "python",
   "nbconvert_exporter": "python",
   "pygments_lexer": "ipython3",
   "version": "3.8.18"
  }
 },
 "nbformat": 4,
 "nbformat_minor": 2
}
