{
 "cells": [
  {
   "cell_type": "code",
   "execution_count": 24,
   "metadata": {},
   "outputs": [
    {
     "data": {
      "text/html": [
       "\n",
       "✅ Libraries loaded successfully <br>\n",
       "✅ OpenAI Key loaded (...PgRnFwjGVxTgzT3BlbkFJ3FPqf...)\n"
      ],
      "text/plain": [
       "<IPython.core.display.HTML object>"
      ]
     },
     "metadata": {},
     "output_type": "display_data"
    }
   ],
   "source": [
    "import PyPDF2\n",
    "from PyPDF2 import PdfReader\n",
    "from langchain.llms import OpenAI\n",
    "from langchain.embeddings.openai import OpenAIEmbeddings\n",
    "from langchain.text_splitter import CharacterTextSplitter\n",
    "from langchain.vectorstores import FAISS\n",
    "from langchain.chains.question_answering import load_qa_chain\n",
    "\n",
    "from IPython.display import display, HTML\n",
    "\n",
    "from util import local_settings\n",
    "\n",
    "display(HTML(f\"\"\"\n",
    "✅ Libraries loaded successfully <br>\n",
    "✅ OpenAI Key loaded (...{local_settings.OPENAI_API_KEY[10:-15]}...)\n",
    "\"\"\"))"
   ]
  },
  {
   "cell_type": "code",
   "execution_count": 25,
   "metadata": {},
   "outputs": [
    {
     "name": "stdout",
     "output_type": "stream",
     "text": [
      "842875\n"
     ]
    }
   ],
   "source": [
    "pdf_data = PdfReader(\"C:\\\\Users\\\\catio\\\\Downloads\\\\meds.pdf\")\n",
    "\n",
    "pdf_text = \"\"\n",
    "\n",
    "for i, page in enumerate(pdf_data.pages):\n",
    "    text = page.extract_text()\n",
    "    if text:\n",
    "        pdf_text += text\n",
    "\n",
    "print(len(pdf_text))"
   ]
  },
  {
   "cell_type": "code",
   "execution_count": 28,
   "metadata": {},
   "outputs": [
    {
     "name": "stdout",
     "output_type": "stream",
     "text": [
      "----- response -----\n",
      "\n",
      "\n",
      "I don't know.\n"
     ]
    }
   ],
   "source": [
    "llm = OpenAI(model_name =\"gpt-3.5-turbo-instruct\")\n",
    "\n",
    "medicine = \"paracetamol\"\n",
    "\n",
    "prompt = f\" When should I not take {medicine}? Answer 'I don't know' if you don't know.\"\n",
    "\n",
    "response = llm(prompt, temperature = 0)\n",
    "\n",
    "print(\"----- response -----\")\n",
    "print(response.replace(\"Langchain\", \"\"))"
   ]
  },
  {
   "cell_type": "code",
   "execution_count": 29,
   "metadata": {},
   "outputs": [
    {
     "name": "stderr",
     "output_type": "stream",
     "text": [
      "Created a chunk of size 543, which is longer than the specified 400\n",
      "Created a chunk of size 502, which is longer than the specified 400\n",
      "Created a chunk of size 526, which is longer than the specified 400\n",
      "Created a chunk of size 486, which is longer than the specified 400\n",
      "Created a chunk of size 561, which is longer than the specified 400\n",
      "Created a chunk of size 702, which is longer than the specified 400\n",
      "Created a chunk of size 611, which is longer than the specified 400\n",
      "Created a chunk of size 402, which is longer than the specified 400\n",
      "Created a chunk of size 561, which is longer than the specified 400\n",
      "Created a chunk of size 443, which is longer than the specified 400\n",
      "Created a chunk of size 504, which is longer than the specified 400\n",
      "Created a chunk of size 429, which is longer than the specified 400\n",
      "Created a chunk of size 448, which is longer than the specified 400\n",
      "Created a chunk of size 653, which is longer than the specified 400\n",
      "Created a chunk of size 427, which is longer than the specified 400\n",
      "Created a chunk of size 603, which is longer than the specified 400\n",
      "Created a chunk of size 611, which is longer than the specified 400\n",
      "Created a chunk of size 778, which is longer than the specified 400\n",
      "Created a chunk of size 615, which is longer than the specified 400\n",
      "Created a chunk of size 685, which is longer than the specified 400\n",
      "Created a chunk of size 596, which is longer than the specified 400\n",
      "Created a chunk of size 633, which is longer than the specified 400\n",
      "Created a chunk of size 478, which is longer than the specified 400\n",
      "Created a chunk of size 456, which is longer than the specified 400\n",
      "Created a chunk of size 602, which is longer than the specified 400\n",
      "Created a chunk of size 419, which is longer than the specified 400\n",
      "Created a chunk of size 590, which is longer than the specified 400\n",
      "Created a chunk of size 425, which is longer than the specified 400\n",
      "Created a chunk of size 571, which is longer than the specified 400\n",
      "Created a chunk of size 590, which is longer than the specified 400\n",
      "Created a chunk of size 408, which is longer than the specified 400\n",
      "Created a chunk of size 546, which is longer than the specified 400\n",
      "Created a chunk of size 680, which is longer than the specified 400\n",
      "Created a chunk of size 409, which is longer than the specified 400\n",
      "Created a chunk of size 475, which is longer than the specified 400\n",
      "Created a chunk of size 534, which is longer than the specified 400\n",
      "Created a chunk of size 695, which is longer than the specified 400\n",
      "Created a chunk of size 462, which is longer than the specified 400\n",
      "Created a chunk of size 489, which is longer than the specified 400\n",
      "Created a chunk of size 561, which is longer than the specified 400\n",
      "Created a chunk of size 669, which is longer than the specified 400\n",
      "Created a chunk of size 794, which is longer than the specified 400\n",
      "Created a chunk of size 574, which is longer than the specified 400\n",
      "Created a chunk of size 673, which is longer than the specified 400\n",
      "Created a chunk of size 551, which is longer than the specified 400\n",
      "Created a chunk of size 516, which is longer than the specified 400\n",
      "Created a chunk of size 583, which is longer than the specified 400\n",
      "Created a chunk of size 446, which is longer than the specified 400\n",
      "Created a chunk of size 460, which is longer than the specified 400\n",
      "Created a chunk of size 444, which is longer than the specified 400\n",
      "Created a chunk of size 476, which is longer than the specified 400\n",
      "Created a chunk of size 532, which is longer than the specified 400\n",
      "Created a chunk of size 483, which is longer than the specified 400\n",
      "Created a chunk of size 492, which is longer than the specified 400\n",
      "Created a chunk of size 678, which is longer than the specified 400\n",
      "Created a chunk of size 529, which is longer than the specified 400\n",
      "Created a chunk of size 504, which is longer than the specified 400\n",
      "Created a chunk of size 774, which is longer than the specified 400\n",
      "Created a chunk of size 403, which is longer than the specified 400\n",
      "Created a chunk of size 543, which is longer than the specified 400\n",
      "Created a chunk of size 410, which is longer than the specified 400\n",
      "Created a chunk of size 577, which is longer than the specified 400\n",
      "Created a chunk of size 405, which is longer than the specified 400\n",
      "Created a chunk of size 468, which is longer than the specified 400\n",
      "Created a chunk of size 447, which is longer than the specified 400\n",
      "Created a chunk of size 649, which is longer than the specified 400\n",
      "Created a chunk of size 605, which is longer than the specified 400\n",
      "Created a chunk of size 440, which is longer than the specified 400\n",
      "Created a chunk of size 707, which is longer than the specified 400\n",
      "Created a chunk of size 579, which is longer than the specified 400\n",
      "Created a chunk of size 504, which is longer than the specified 400\n",
      "Created a chunk of size 1145, which is longer than the specified 400\n",
      "Created a chunk of size 488, which is longer than the specified 400\n",
      "Created a chunk of size 1459, which is longer than the specified 400\n",
      "Created a chunk of size 506, which is longer than the specified 400\n",
      "Created a chunk of size 1601, which is longer than the specified 400\n",
      "Created a chunk of size 482, which is longer than the specified 400\n",
      "Created a chunk of size 1451, which is longer than the specified 400\n",
      "Created a chunk of size 443, which is longer than the specified 400\n",
      "Created a chunk of size 1268, which is longer than the specified 400\n",
      "Created a chunk of size 593, which is longer than the specified 400\n",
      "Created a chunk of size 1631, which is longer than the specified 400\n",
      "Created a chunk of size 1586, which is longer than the specified 400\n",
      "Created a chunk of size 425, which is longer than the specified 400\n",
      "Created a chunk of size 1454, which is longer than the specified 400\n",
      "Created a chunk of size 430, which is longer than the specified 400\n",
      "Created a chunk of size 1261, which is longer than the specified 400\n",
      "Created a chunk of size 549, which is longer than the specified 400\n",
      "Created a chunk of size 1742, which is longer than the specified 400\n",
      "Created a chunk of size 593, which is longer than the specified 400\n",
      "Created a chunk of size 1343, which is longer than the specified 400\n",
      "Created a chunk of size 583, which is longer than the specified 400\n",
      "Created a chunk of size 1384, which is longer than the specified 400\n",
      "Created a chunk of size 1266, which is longer than the specified 400\n",
      "Created a chunk of size 471, which is longer than the specified 400\n",
      "Created a chunk of size 780, which is longer than the specified 400\n"
     ]
    },
    {
     "name": "stdout",
     "output_type": "stream",
     "text": [
      "\n",
      "    # of Chunks: 2810\n",
      "    Chunk 0: APROVADO EM \n",
      " 06-04-2023  INFARMED \n",
      " \n",
      " Folheto informativo: Informação para o doente \n",
      " \n",
      "Varfine 5 mg comprimidos \n",
      "varfarina \n",
      "  \n",
      "Leia com atenção todo este folheto antes de começar a tomar este medicamento, pois\n",
      "    Chunk 1: contém informação importante para si. - Conserve este folheto. Pode ter necessidade de o ler novamente.  - Caso ainda tenha dúvidas, fale com o seu médico ou farmacêutico. - Este medicamento foi receitado apenas para si. Não deve dá-lo a outros. O medicamento pode ser-lhes prejudicial mesmo que apresentem os mesmos sinais de doença. - Se tiver quaisquer efeitos indesejáveis, incluindo possíveis efeitos indesejáveis não indicados neste folheto, fale com o seu médico ou farmacêutico ou enfermeiro. Ver secção 4.  O que contém este folheto:\n",
      "\n"
     ]
    }
   ],
   "source": [
    "text_splitter = CharacterTextSplitter(\n",
    "    separator = \"\\n\",\n",
    "    chunk_size = 400,\n",
    "    chunk_overlap = 100\n",
    ")\n",
    "\n",
    "final_data = text_splitter.split_text(pdf_text)\n",
    "\n",
    "print(f\"\"\"\n",
    "    # of Chunks: {len(final_data)}\n",
    "    Chunk 0: {final_data[0]}\n",
    "    Chunk 1: {final_data[1]}\n",
    "\"\"\")"
   ]
  },
  {
   "cell_type": "code",
   "execution_count": 30,
   "metadata": {},
   "outputs": [],
   "source": [
    "embeddings = OpenAIEmbeddings()\n",
    "document_searcher = FAISS.from_texts(final_data, embeddings)\n",
    "chain = load_qa_chain(OpenAI(), chain_type=\"stuff\")"
   ]
  },
  {
   "cell_type": "code",
   "execution_count": 41,
   "metadata": {},
   "outputs": [
    {
     "name": "stdout",
     "output_type": "stream",
     "text": [
      "--- 🤖 RESULT ---\n",
      " Outros AINEs (Anti-Inflamatórios Não Esteroides), anticoagulantes e antiagregantes orais (heparina e heparina de baixo peso molecular HBPM).\n"
     ]
    }
   ],
   "source": [
    "medicine = \"clonixina\"\n",
    "\n",
    "prompt = f\" Que medicamentos são contra indicados com {medicine}? Se não souberes diz para consultar o médico\"\n",
    "\n",
    "docs =  document_searcher.similarity_search(prompt)\n",
    "result = chain.run(input_documents=docs, question=prompt)\n",
    "\n",
    "print(\"--- 🤖 RESULT ---\")\n",
    "print(result)"
   ]
  }
 ],
 "metadata": {
  "kernelspec": {
   "display_name": "capstone",
   "language": "python",
   "name": "python3"
  },
  "language_info": {
   "codemirror_mode": {
    "name": "ipython",
    "version": 3
   },
   "file_extension": ".py",
   "mimetype": "text/x-python",
   "name": "python",
   "nbconvert_exporter": "python",
   "pygments_lexer": "ipython3",
   "version": "3.8.18"
  }
 },
 "nbformat": 4,
 "nbformat_minor": 2
}
