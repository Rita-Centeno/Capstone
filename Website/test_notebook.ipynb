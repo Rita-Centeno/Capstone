{
 "cells": [
  {
   "cell_type": "code",
   "execution_count": 17,
   "metadata": {},
   "outputs": [],
   "source": [
    "\n",
    "import json\n",
    "from datetime import date, datetime, timedelta\n",
    "from time import time\n",
    "import pytz\n",
    "\n",
    "\n",
    "\n",
    "limit1 = datetime.strptime(\"9:00:00\", \"%H:%M:%S\").time()\n",
    "limit2 = datetime.strptime(\"20:00:00\", \"%H:%M:%S\").time()\n",
    "limit3 = datetime.strptime(\"12:00:00\", \"%H:%M:%S\").time()\n",
    "\n",
    "\n",
    "\n",
    "doctor_time_tables = {\n",
    "    \"Dr. João Santos\": {\"monday\": {'start': '09:00:00', 'end': \"13:00:00\"}, \"wednesday\": {'start': '18:00:00','end': \"20:00:00\"}},\n",
    "    \"Dr. Miguel Costa\": {\"monday\": {'start': \"13:30:00\", 'end': \"17:30:00\"}, \"thursday\": {'start': '09:00:00', 'end': \"13:00:00\"}},\n",
    "    \"Dra. Sofia Pereira\": {\"monday\": {'start': \"18:00:00\", 'end': \"20:00:00\"}, \"thursday\": {'start': '13:30:00', 'end': \"17:30:00\"}},\n",
    "    \"Dra. Mariana Chagas\": {\"tuesday\": {'start': \"09:00:00\", 'end': \"13:00:00\"}, \"thursday\": {'start': '18:00:00', 'end': \"20:00:00\"}},\n",
    "    \"Dr. António Oliveira\": {\"tuesday\": {'start': \"13:30:00\", 'end': \"17:30:00\"}, \"friday\": {'start': '09:00:00', 'end': \"13:00:00\"}},\n",
    "    \"Dra. Inês Martins\": {\"tuesday\": {'start': \"18:00:00\", 'end': \"20:00:00\"}, \"friday\": {'start': '13:30:00', 'end': \"17:30:00\"}},\n",
    "    \"Dr. Ângelo Rodrigues\": {\"wednesday\": {'start': \"09:00:00\", 'end': \"13:00:00\"}, \"friday\": {'start': '18:00:00', 'end': \"20:00:00\"}},\n",
    "    \"Dr. José Dias\": {\"wednesday\": {'start': \"13:30:00\", 'end': \"17:30:00\"}, \"saturday\": {'start': '09:00:00', 'end': \"12:00:00\"}},\n",
    "}\n"
   ]
  },
  {
   "cell_type": "code",
   "execution_count": 18,
   "metadata": {},
   "outputs": [],
   "source": [
    "def is_time_in_range(selected_time, time_list):\n",
    "    selected_time = datetime.strptime(selected_time, \"%H:%M:%S\").time()\n",
    "    \n",
    "    for time in time_list:\n",
    "        time_obj = datetime.strptime(time, \"%H:%M:%S\").time()\n",
    "        if time_obj == selected_time:\n",
    "            return True\n",
    "    return False\n",
    "\n"
   ]
  },
  {
   "cell_type": "code",
   "execution_count": 19,
   "metadata": {},
   "outputs": [],
   "source": [
    "def get_available_time_slots(doctor, day):\n",
    "    # Function to get available time slots for a specific doctor on a given day\n",
    "    doctor_schedule = doctor_time_tables.get(doctor, {}).get(day, {})\n",
    "    \n",
    "    if not doctor_schedule:\n",
    "        return []\n",
    "\n",
    "    start_time = datetime.strptime(doctor_schedule.get('start', '00:00:00'), \"%H:%M:%S\").time()\n",
    "    end_time = datetime.strptime(doctor_schedule.get('end', '23:59:59'), \"%H:%M:%S\").time()\n",
    "\n",
    "    available_times = []\n",
    "    current_time = start_time\n",
    "\n",
    "    while current_time <= end_time:\n",
    "        available_times.append(current_time.strftime(\"%H:%M:%S\"))\n",
    "        current_time = (datetime.combine(date.today(), current_time) + timedelta(minutes=30)).time()\n",
    "\n",
    "    return available_times"
   ]
  },
  {
   "cell_type": "code",
   "execution_count": 20,
   "metadata": {},
   "outputs": [],
   "source": [
    "def get_available_times_message(doctor, day):\n",
    "    available_times = get_available_time_slots(doctor, day)\n",
    "    if not available_times:\n",
    "        return f\"{doctor} is not available on {day}.\"\n",
    "    return f\"{doctor} is available on {day} at the following times: {', '.join(available_times)}.\"\n"
   ]
  },
  {
   "cell_type": "code",
   "execution_count": 21,
   "metadata": {},
   "outputs": [],
   "source": [
    "def choose_doctor_based_on_time(requested_time_str, requested_doctor, requested_date_str):\n",
    "    available_doctors = []\n",
    "    requested_date = datetime.strptime(requested_date_str, \"%Y-%m-%d\").strftime(\"%A\").lower()   # Monday\n",
    "    requested_time = datetime.strptime(requested_time_str, \"%H:%M:%S\").time()  # 09:00:00\n",
    "\n",
    "    for doctor, schedules in doctor_time_tables.items():\n",
    "        for day, time_range in schedules.items():\n",
    "            if day == requested_date:\n",
    "                start_time = datetime.strptime(time_range['start'], \"%H:%M:%S\").time()\n",
    "                end_time = datetime.strptime(time_range['end'], \"%H:%M:%S\").time()\n",
    "\n",
    "                if start_time <= requested_time <= end_time:\n",
    "                    available_doctors.append(doctor)\n",
    "\n",
    "    if not available_doctors:\n",
    "        return None  # No available doctors for the requested time\n",
    "\n",
    "    if requested_doctor in available_doctors:\n",
    "        return requested_doctor\n",
    "\n",
    "    return None  # The originally reques"
   ]
  },
  {
   "cell_type": "code",
   "execution_count": 22,
   "metadata": {},
   "outputs": [],
   "source": [
    "def doctor_checking(arguments):\n",
    "    provided_date =  str(datetime.strptime(json.loads(arguments)['date'], \"%Y-%m-%d\").date())\n",
    "    provided_time = str(datetime.strptime(json.loads(arguments)['time'].replace(\"PM\",\"\").replace(\"AM\",\"\").strip(), \"%H:%M:%S\").time())\n",
    "    start_date_time = provided_date + \" \" + provided_time\n",
    "    timezone = pytz.timezone('Europe/Lisbon')\n",
    "    start_date_time = timezone.localize(datetime.strptime(start_date_time, \"%Y-%m-%d %H:%M:%S\"))\n",
    "    email_address = json.loads(arguments)['email_address']\n",
    "    doctor = json.loads(arguments)['doctor']\n",
    "    end_date_time = start_date_time + timedelta(hours=0.5)\n",
    "\n",
    "    \n",
    "    existing_doctors = [\"Dr. João Santos\", \"Dr. Miguel Costa\", \"Dra. Sofia Pereira\", 'Dra. Mariana Chagas', 'Dr. António Oliveira',\n",
    "                            'Dra. Inês Martins', 'Dr. Ângelo Rodrigues', 'Dr. José Dias']\n",
    "\n",
    "\n",
    "    if doctor is not None:\n",
    "        if doctor not in existing_doctors:\n",
    "            return \"Please choose a valid doctor from the list: \" + \", \".join(existing_doctors)\n",
    "                \n",
    "        day_of_week = start_date_time.strftime(\"%A\").lower()\n",
    "        doctor_schedule = get_available_time_slots(doctor, day_of_week)\n",
    "\n",
    "        if not doctor_schedule or not is_time_in_range(provided_time, doctor_schedule):\n",
    "            available_times_message = get_available_times_message(doctor, day_of_week)\n",
    "            \n",
    "            return f\"{doctor} is not available at the selected time. {available_times_message} Please choose a valid time.\"\n",
    "        else:\n",
    "            # Choose a doctor based on the requested time\n",
    "            requested_time = start_date_time.time().strftime(\"%H:%M:%S\")\n",
    "            updated_doctor = choose_doctor_based_on_time(requested_time, doctor, provided_date)\n",
    "            if updated_doctor is None:\n",
    "                return False\n",
    "            # Update the 'doctor' variable with the chosen doctor\n",
    "            #doctor = updated_doctor\n",
    "            # Confirm the appointment\n",
    "            return True\n",
    "\n"
   ]
  },
  {
   "cell_type": "code",
   "execution_count": 23,
   "metadata": {},
   "outputs": [],
   "source": [
    "doctor_schedule = get_available_time_slots('Dr. João Santos', 'monday')"
   ]
  },
  {
   "cell_type": "code",
   "execution_count": 24,
   "metadata": {},
   "outputs": [
    {
     "data": {
      "text/plain": [
       "False"
      ]
     },
     "execution_count": 24,
     "metadata": {},
     "output_type": "execute_result"
    }
   ],
   "source": [
    "is_time_in_range('17:00:00', doctor_schedule)"
   ]
  },
  {
   "cell_type": "code",
   "execution_count": 25,
   "metadata": {},
   "outputs": [
    {
     "name": "stdout",
     "output_type": "stream",
     "text": [
      "Dr. João Santos is not available at the selected time. Dr. João Santos is available on monday at the following times: 09:00:00, 09:30:00, 10:00:00, 10:30:00, 11:00:00, 11:30:00, 12:00:00, 12:30:00, 13:00:00. Please choose a valid time.\n"
     ]
    }
   ],
   "source": [
    "timezone = pytz.timezone('Europe/Lisbon')\n",
    "doctor = 'Dr. João Santos'\n",
    "provided_time = '17:00:00'\n",
    "provided_date = datetime.strptime('2024-01-01', \"%Y-%m-%d\").date()\n",
    "start_date_time = datetime.combine(provided_date, datetime.strptime(provided_time, \"%H:%M:%S\").time())\n",
    "start_date_time = timezone.localize(start_date_time)\n",
    "\n",
    "\n",
    "if not doctor_schedule or not is_time_in_range(provided_time, doctor_schedule):\n",
    "        available_times_message = get_available_times_message(doctor, 'monday')\n",
    "        print(f\"{doctor} is not available at the selected time. {available_times_message} Please choose a valid time.\")\n",
    "else:\n",
    "        # Choose a doctor based on the requested time\n",
    "        requested_time = start_date_time.time().strftime(\"%H:%M:%S\")\n",
    "        updated_doctor = choose_doctor_based_on_time(requested_time, doctor, provided_date)\n",
    "        if updated_doctor is None:\n",
    "                print(False)"
   ]
  },
  {
   "cell_type": "code",
   "execution_count": 27,
   "metadata": {},
   "outputs": [
    {
     "name": "stdout",
     "output_type": "stream",
     "text": [
      "Dr. João Santos\n"
     ]
    }
   ],
   "source": [
    "updated_doctor = choose_doctor_based_on_time('09:00:00', 'Dr. João Santos', '2024-01-01')\n",
    "print(updated_doctor)"
   ]
  },
  {
   "cell_type": "code",
   "execution_count": 1,
   "metadata": {},
   "outputs": [],
   "source": [
    "import json\n",
    "from datetime import date, datetime, timedelta\n",
    "from time import time\n",
    "from googleapiclient.discovery import build\n",
    "from google.oauth2.credentials import Credentials\n",
    "import pytz\n"
   ]
  },
  {
   "cell_type": "code",
   "execution_count": 2,
   "metadata": {},
   "outputs": [],
   "source": [
    "from google.auth.transport.requests import Request\n",
    "from google.oauth2.credentials import Credentials\n",
    "from google_auth_oauthlib.flow import InstalledAppFlow\n",
    "from googleapiclient.discovery import build\n",
    "from googleapiclient.errors import HttpError"
   ]
  },
  {
   "cell_type": "code",
   "execution_count": 3,
   "metadata": {},
   "outputs": [],
   "source": [
    "SCOPES = ['https://www.googleapis.com/auth/calendar']\n",
    "creds = Credentials.from_authorized_user_file('token.json', SCOPES)\n",
    "service = build('calendar', 'v3', credentials=creds)"
   ]
  },
  {
   "cell_type": "code",
   "execution_count": 4,
   "metadata": {},
   "outputs": [
    {
     "name": "stdout",
     "output_type": "stream",
     "text": [
      "{'kind': 'calendar#event', 'etag': '\"3407962101988000\"', 'id': 'it9jljdhocv7bj793rntt87ops', 'status': 'confirmed', 'htmlLink': 'https://www.google.com/calendar/event?eid=aXQ5amxqZGhvY3Y3Ymo3OTNybnR0ODdvcHMgZG9jLml0LnJpZ2h0LmNwQG0', 'created': '2023-12-31T00:04:10.000Z', 'updated': '2023-12-31T00:04:10.994Z', 'summary': 'Appointment for Dr. José Dias', 'description': 'This appointment has been scheduled by the booking chatbot', 'location': 'Lisbon', 'creator': {'email': 'doc.it.right.cp@gmail.com', 'self': True}, 'organizer': {'email': 'doc.it.right.cp@gmail.com', 'self': True}, 'start': {'dateTime': '2024-01-03T13:30:00Z', 'timeZone': 'Europe/Lisbon'}, 'end': {'dateTime': '2024-01-03T14:00:00Z', 'timeZone': 'Europe/Lisbon'}, 'iCalUID': 'it9jljdhocv7bj793rntt87ops@google.com', 'sequence': 0, 'attendees': [{'email': 'ruiizy7@gmail.com', 'responseStatus': 'needsAction'}], 'reminders': {'useDefault': False, 'overrides': [{'method': 'popup', 'minutes': 10}, {'method': 'email', 'minutes': 1440}]}, 'eventType': 'default'}\n",
      "{'kind': 'calendar#event', 'etag': '\"3408076799482000\"', 'id': 'btcbo64phtd07g3f1p16g8r9l4', 'status': 'confirmed', 'htmlLink': 'https://www.google.com/calendar/event?eid=YnRjYm82NHBodGQwN2czZjFwMTZnOHI5bDQgZG9jLml0LnJpZ2h0LmNwQG0', 'created': '2023-12-31T15:59:59.000Z', 'updated': '2023-12-31T15:59:59.741Z', 'summary': 'Appointment for Dr. João Santos', 'description': 'This appointment has been scheduled by the booking chatbot', 'location': 'Lisbon', 'creator': {'email': 'doc.it.right.cp@gmail.com', 'self': True}, 'organizer': {'email': 'doc.it.right.cp@gmail.com', 'self': True}, 'start': {'dateTime': '2024-01-01T10:00:00Z', 'timeZone': 'Europe/Lisbon'}, 'end': {'dateTime': '2024-01-01T10:30:00Z', 'timeZone': 'Europe/Lisbon'}, 'iCalUID': 'btcbo64phtd07g3f1p16g8r9l4@google.com', 'sequence': 0, 'attendees': [{'email': 'catioli@hotmail.com', 'responseStatus': 'needsAction'}], 'reminders': {'useDefault': False, 'overrides': [{'method': 'email', 'minutes': 1440}, {'method': 'popup', 'minutes': 10}]}, 'eventType': 'default'}\n",
      "{'kind': 'calendar#event', 'etag': '\"3408077330232000\"', 'id': 'l6buibmlbkpn6a1u25m2qcaq3s', 'status': 'confirmed', 'htmlLink': 'https://www.google.com/calendar/event?eid=bDZidWlibWxia3BuNmExdTI1bTJxY2FxM3MgZG9jLml0LnJpZ2h0LmNwQG0', 'created': '2023-12-31T16:04:25.000Z', 'updated': '2023-12-31T16:04:25.116Z', 'summary': 'Appointment for Dr. João Santos', 'description': 'This appointment has been scheduled by the booking chatbot', 'location': 'Lisbon', 'creator': {'email': 'doc.it.right.cp@gmail.com', 'self': True}, 'organizer': {'email': 'doc.it.right.cp@gmail.com', 'self': True}, 'start': {'dateTime': '2024-01-01T11:00:00Z', 'timeZone': 'Europe/Lisbon'}, 'end': {'dateTime': '2024-01-01T11:30:00Z', 'timeZone': 'Europe/Lisbon'}, 'iCalUID': 'l6buibmlbkpn6a1u25m2qcaq3s@google.com', 'sequence': 0, 'attendees': [{'email': 'catioli@hotmail.com', 'responseStatus': 'needsAction'}], 'reminders': {'useDefault': False, 'overrides': [{'method': 'popup', 'minutes': 10}, {'method': 'email', 'minutes': 1440}]}, 'eventType': 'default'}\n",
      "{'kind': 'calendar#event', 'etag': '\"3408077826756000\"', 'id': 'hkak7l6vs4p0if06lnlbumhf5c', 'status': 'confirmed', 'htmlLink': 'https://www.google.com/calendar/event?eid=aGthazdsNnZzNHAwaWYwNmxubGJ1bWhmNWMgZG9jLml0LnJpZ2h0LmNwQG0', 'created': '2023-12-31T16:08:33.000Z', 'updated': '2023-12-31T16:08:33.378Z', 'summary': 'Dr. João Santos', 'description': 'This appointment has been scheduled by the booking chatbot', 'location': 'Lisbon', 'creator': {'email': 'doc.it.right.cp@gmail.com', 'self': True}, 'organizer': {'email': 'doc.it.right.cp@gmail.com', 'self': True}, 'start': {'dateTime': '2024-01-01T12:00:00Z', 'timeZone': 'Europe/Lisbon'}, 'end': {'dateTime': '2024-01-01T12:30:00Z', 'timeZone': 'Europe/Lisbon'}, 'iCalUID': 'hkak7l6vs4p0if06lnlbumhf5c@google.com', 'sequence': 0, 'attendees': [{'email': 'example@example.com', 'responseStatus': 'needsAction'}], 'reminders': {'useDefault': False, 'overrides': [{'method': 'popup', 'minutes': 10}, {'method': 'email', 'minutes': 1440}]}, 'eventType': 'default'}\n",
      "{'kind': 'calendar#event', 'etag': '\"3408079233894000\"', 'id': 'rcq4kqp3rmn2bv5360os41bpv8', 'status': 'confirmed', 'htmlLink': 'https://www.google.com/calendar/event?eid=cmNxNGtxcDNybW4yYnY1MzYwb3M0MWJwdjggZG9jLml0LnJpZ2h0LmNwQG0', 'created': '2023-12-31T16:20:16.000Z', 'updated': '2023-12-31T16:20:16.947Z', 'summary': 'Dr. João Santos', 'description': 'This appointment has been scheduled by the booking chatbot', 'location': 'Lisbon', 'creator': {'email': 'doc.it.right.cp@gmail.com', 'self': True}, 'organizer': {'email': 'doc.it.right.cp@gmail.com', 'self': True}, 'start': {'dateTime': '2024-01-01T11:30:00Z', 'timeZone': 'Europe/Lisbon'}, 'end': {'dateTime': '2024-01-01T12:00:00Z', 'timeZone': 'Europe/Lisbon'}, 'iCalUID': 'rcq4kqp3rmn2bv5360os41bpv8@google.com', 'sequence': 0, 'attendees': [{'email': 'example@example.com', 'responseStatus': 'needsAction'}], 'reminders': {'useDefault': False, 'overrides': [{'method': 'email', 'minutes': 1440}, {'method': 'popup', 'minutes': 10}]}, 'eventType': 'default'}\n",
      "{'kind': 'calendar#event', 'etag': '\"3408090748426000\"', 'id': '4v10m0t0i887uniqpdp9v8ln6k', 'status': 'confirmed', 'htmlLink': 'https://www.google.com/calendar/event?eid=NHYxMG0wdDBpODg3dW5pcXBkcDl2OGxuNmsgZG9jLml0LnJpZ2h0LmNwQG0', 'created': '2023-12-31T17:56:14.000Z', 'updated': '2023-12-31T17:56:14.213Z', 'summary': 'Dr. João Santos', 'description': '{This appointment was scheduled by the chatbot}', 'location': 'Lisbon', 'creator': {'email': 'doc.it.right.cp@gmail.com', 'self': True}, 'organizer': {'email': 'doc.it.right.cp@gmail.com', 'self': True}, 'start': {'dateTime': '2024-01-01T09:00:00Z', 'timeZone': 'Europe/Lisbon'}, 'end': {'dateTime': '2024-01-01T09:30:00Z', 'timeZone': 'Europe/Lisbon'}, 'iCalUID': '4v10m0t0i887uniqpdp9v8ln6k@google.com', 'sequence': 0, 'attendees': [{'email': 'catioli@hotmail.com', 'responseStatus': 'needsAction'}], 'reminders': {'useDefault': False, 'overrides': [{'method': 'email', 'minutes': 1440}, {'method': 'popup', 'minutes': 10}]}, 'eventType': 'default'}\n",
      "{'kind': 'calendar#event', 'etag': '\"3408094034064000\"', 'id': 'vcp0f9maf5fu06q0m1t5vuf5ho', 'status': 'confirmed', 'htmlLink': 'https://www.google.com/calendar/event?eid=dmNwMGY5bWFmNWZ1MDZxMG0xdDV2dWY1aG8gZG9jLml0LnJpZ2h0LmNwQG0', 'created': '2023-12-31T18:23:37.000Z', 'updated': '2023-12-31T18:23:37.032Z', 'summary': 'Dr. Ângelo Rodrigues', 'description': '{This appointment was scheduled by the chatbot}', 'location': 'Lisbon', 'creator': {'email': 'doc.it.right.cp@gmail.com', 'self': True}, 'organizer': {'email': 'doc.it.right.cp@gmail.com', 'self': True}, 'start': {'dateTime': '2024-01-03T09:00:00Z', 'timeZone': 'Europe/Lisbon'}, 'end': {'dateTime': '2024-01-03T09:30:00Z', 'timeZone': 'Europe/Lisbon'}, 'iCalUID': 'vcp0f9maf5fu06q0m1t5vuf5ho@google.com', 'sequence': 0, 'attendees': [{'email': 'catioli@hotmail.com', 'responseStatus': 'needsAction'}], 'reminders': {'useDefault': False, 'overrides': [{'method': 'email', 'minutes': 1440}, {'method': 'popup', 'minutes': 10}]}, 'eventType': 'default'}\n"
     ]
    }
   ],
   "source": [
    "\n",
    "limit1 = datetime.strptime(\"9:00:00\", \"%H:%M:%S\").time()\n",
    "limit2 = datetime.strptime(\"20:00:00\", \"%H:%M:%S\").time()\n",
    "limit3 = datetime.strptime(\"12:00:00\", \"%H:%M:%S\").time()\n",
    "\n",
    "timezone = pytz.timezone('Europe/Lisbon')\n",
    "doctor = 'Dr. João Santos'\n",
    "provided_time = '13:00:00'\n",
    "provided_date = datetime.strptime('2024-01-01', \"%Y-%m-%d\").date()\n",
    "start_date_time = datetime.combine(provided_date, datetime.strptime(provided_time, \"%H:%M:%S\").time())\n",
    "start_date_time = timezone.localize(start_date_time)\n",
    "email_address = 'catioli@hotmail.com'\n",
    "\n",
    "\n",
    "if start_date_time.time() >= limit1 and start_date_time.time() <= limit2: #Day of the week\n",
    "    end_date_time = start_date_time + timedelta(hours=2)\n",
    "    events = service.events().list(calendarId=\"primary\").execute()\n",
    "    id = \"\"\n",
    "    final_event = None\n",
    "    for event in events['items']:\n",
    "        print(event)\n",
    "        if event['attendees'][0]['email'] == email_address:\n",
    "            id = event['id']\n",
    "            final_event = event\n"
   ]
  },
  {
   "cell_type": "code",
   "execution_count": 53,
   "metadata": {},
   "outputs": [],
   "source": [
    "def check_event(email_address):\n",
    "    \n",
    "    events = service.events().list(calendarId=\"primary\").execute()  #all the events presented in google calendar\n",
    "    id = \"\"\n",
    "    final_event = None\n",
    "    events_list = []\n",
    "    for event in events['items']:\n",
    "        print(event['attendees'][0]['email'])\n",
    "\n",
    "        if event['attendees'][0]['email'] == email_address: #if the email exists in the attendees \n",
    "            id = event['id'] #id => event id\n",
    "            final_event = event #final event => is the full event\n",
    "    if final_event:\n",
    "        start_datetime_str = final_event['start']['dateTime']\n",
    "        start_datetime = datetime.fromisoformat(start_datetime_str[:-1]).replace(tzinfo=pytz.UTC)\n",
    "        formatted_date= start_datetime.strftime('%Y-%m-%d')\n",
    "        formatted_time = start_datetime.strftime('%H:%M:%S')\n",
    "\n",
    "\n",
    "        return f\"Your appointment is right now scheduled for {formatted_date} at {formatted_time} with {final_event['summary']} do you wish to keep the same doctor?\"      \n",
    "    else:\n",
    "        return f\"Your email is not assigned to any appointment. Please try again.\"\n"
   ]
  },
  {
   "cell_type": "code",
   "execution_count": 54,
   "metadata": {},
   "outputs": [
    {
     "name": "stdout",
     "output_type": "stream",
     "text": [
      "ruiizy7@gmail.com\n",
      "catioli@hotmail.com\n",
      "catioli@hotmail.com\n",
      "example@example.com\n",
      "catioli@hotmail.com\n",
      "example@example.com\n"
     ]
    },
    {
     "data": {
      "text/plain": [
       "'Your appointment is right now scheduled for 2024-01-01 at 10:30:00 with Dr. João Santos do you wish to keep the same doctor?'"
      ]
     },
     "execution_count": 54,
     "metadata": {},
     "output_type": "execute_result"
    }
   ],
   "source": [
    "email_address = 'catioli@hotmail.com'\n",
    "\n",
    "\n",
    "checking = check_event('catioli@hotmail.com')\n",
    "checking"
   ]
  },
  {
   "cell_type": "code",
   "execution_count": null,
   "metadata": {},
   "outputs": [],
   "source": [
    "def appointment_reschedule(arguments):\n",
    "\n",
    "    try:\n",
    "        email_address = json.loads(arguments)['email_address']\n",
    "        provided_date =  str(datetime.strptime(json.loads(arguments)['date'], \"%Y-%m-%d\").date())\n",
    "        provided_time = str(datetime.strptime(json.loads(arguments)['time'].replace(\"PM\",\"\").replace(\"AM\",\"\").strip(), \"%H:%M:%S\").time())\n",
    "        start_date_time = provided_date + \" \" + provided_time\n",
    "        timezone = pytz.timezone('Europe/Lisbon')\n",
    "        start_date_time = timezone.localize(datetime.strptime(start_date_time, \"%Y-%m-%d %H:%M:%S\"))\n",
    "        \n",
    "\n",
    "\n",
    "        existing_doctors = [\"Dr. João Santos\", \"Dr. Miguel Costa\", \"Dra. Sofia Pereira\", 'Dra. Mariana Chagas', 'Dr. António Oliveira',\n",
    "                            'Dra. Inês Martins', 'Dr. Ângelo Rodrigues', 'Dr. José Dias']\n",
    "        \n",
    "        # check if the event exists and conclude if the user wants to keep the same doctor\n",
    "        checking = check_event(arguments)\n",
    "        user_response = chat_completion_request(checking)\n",
    "        \n",
    "        # if the user answers yes\n",
    "        if \"yes\" in user_response.lower():\n",
    "\n",
    "            if provided_date and provided_time:\n",
    "\n",
    "            #Confirm that the new date is available in the calendar and with the doctor\n",
    "                slot_checking = appointment_checking(arguments) \n",
    "                doc_checking = doctor_checking(arguments, predetermined_doctor = final_event['summary'])\n",
    "\n",
    "                while doc_checking != True:\n",
    "                    return doc_checking        \n",
    "\n",
    "                while slot_checking != True:\n",
    "                    return slot_checking   \n",
    "            \n",
    "                # if the new date is available and correct\n",
    "                if doc_checking == True and slot_checking == True:        \n",
    "\n",
    "                    event = {\n",
    "                        'summary': {final_event['summary']},\n",
    "                        'location': \"Lisbon\",\n",
    "                        'description': \"{This appointment was scheduled by the chatbot}\",\n",
    "                        \n",
    "                        'start': {\n",
    "                            'dateTime': start_date_time.strftime(\"%Y-%m-%dT%H:%M:%S\"),\n",
    "                            'timeZone': 'Europe/Lisbon',\n",
    "                        },\n",
    "                        'end': {\n",
    "                            'dateTime': end_date_time.strftime(\"%Y-%m-%dT%H:%M:%S\"),\n",
    "                            'timeZone': 'Europe/Lisbon',\n",
    "                        },\n",
    "                        'attendees': [\n",
    "                            {'email': email_address},\n",
    "                        ],\n",
    "                                            \n",
    "                        'reminders': {\n",
    "                            'useDefault': False,\n",
    "                            'overrides': [\n",
    "                                {'method': 'email', 'minutes': 24 * 60},\n",
    "                                {'method': 'popup', 'minutes': 10},\n",
    "                            ],\n",
    "                        },\n",
    "                    }\n",
    "                    service.events().insert(calendarId='primary', body=event).execute()\n",
    "                    return \"Appointment added successfully.\"\n",
    "            else:\n",
    "                 return \"Please provide date and time.\"\n",
    "                \n",
    "        if \"no\" in user_response.lower():\n",
    "\n",
    "            #choose other doctor\n",
    "            doctor = json.loads(arguments)['doctor']\n",
    "\n",
    "            if provided_date and provided_time and doctor:\n",
    "\n",
    "                slot_checking = appointment_checking(arguments) \n",
    "                doc_checking = doctor_checking(arguments)\n",
    "\n",
    "                while doc_checking != True:\n",
    "                    return doc_checking        \n",
    "\n",
    "                while slot_checking != True:\n",
    "                    return slot_checking   \n",
    "        \n",
    "                if doc_checking == True and slot_checking == True:        \n",
    "                    \n",
    "                    event = {\n",
    "                        'summary': {doctor},\n",
    "                        'location': \"Lisbon\",\n",
    "                        'description': \"{This appointment was scheduled by the chatbot}\",\n",
    "                        \n",
    "                        'start': {\n",
    "                            'dateTime': start_date_time.strftime(\"%Y-%m-%dT%H:%M:%S\"),\n",
    "                            'timeZone': 'Europe/Lisbon',\n",
    "                        },\n",
    "                        'end': {\n",
    "                            'dateTime': end_date_time.strftime(\"%Y-%m-%dT%H:%M:%S\"),\n",
    "                            'timeZone': 'Europe/Lisbon',\n",
    "                        },\n",
    "                        'attendees': [\n",
    "                            {'email': email_address},\n",
    "                        ],\n",
    "                                            \n",
    "                        'reminders': {\n",
    "                            'useDefault': False,\n",
    "                            'overrides': [\n",
    "                                {'method': 'email', 'minutes': 24 * 60},\n",
    "                                {'method': 'popup', 'minutes': 10},\n",
    "                            ],\n",
    "                        },\n",
    "                    }\n",
    "                    service.events().insert(calendarId='primary', body=event).execute()\n",
    "                    return \"Appointment added successfully.\"              \n",
    "            else:\n",
    "                 return \"Please provide date, time and doctor of preference.\"\n",
    "        else:\n",
    "            return \"Please answer yes or no\"\n",
    "        \n",
    "    except Exception as e:\n",
    "            import traceback\n",
    "            traceback.print_exc()\n",
    "            return \"We are enable to process. Please try again.\""
   ]
  },
  {
   "cell_type": "code",
   "execution_count": null,
   "metadata": {},
   "outputs": [],
   "source": [
    "\n",
    "       \n",
    "        # # Fetch response of ChatGPT and extract content\n",
    "        # assistant_message = chat_response.json().get(\"choices\", [{}])[0].get(\"message\", {})\n",
    "\n",
    "        # if assistant_message.get('content'):\n",
    "        #     user_response = assistant_message['content']\n",
    "        #     print(\"Response is: \", user_response)\n",
    "        #     messages.append({\"role\": \"assistant\", \"content\": user_response})\n",
    "        # else:\n",
    "        #     # Handle the case when the response contains a function call\n",
    "        #     fn_name = assistant_message.get(\"function_call\", {}).get(\"name\", \"\")\n",
    "        #     arguments = assistant_message.get(\"function_call\", {}).get(\"arguments\", \"\")\n",
    "        #     function = locals().get(fn_name, None)\n",
    "            \n",
    "        #     if function:\n",
    "        #         result = function(arguments)\n",
    "        #         print(\"Response is: \", result)\n",
    "        #         # You might need to handle the result further based on your use case\n",
    "        #         user_response = None  # You might need\n",
    "        #         # if the user answers yes\n"
   ]
  }
 ],
 "metadata": {
  "kernelspec": {
   "display_name": "Python 3",
   "language": "python",
   "name": "python3"
  },
  "language_info": {
   "codemirror_mode": {
    "name": "ipython",
    "version": 3
   },
   "file_extension": ".py",
   "mimetype": "text/x-python",
   "name": "python",
   "nbconvert_exporter": "python",
   "pygments_lexer": "ipython3",
   "version": "3.11.5"
  }
 },
 "nbformat": 4,
 "nbformat_minor": 2
}
