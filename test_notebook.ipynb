{
 "cells": [
  {
   "cell_type": "code",
   "execution_count": 4,
   "metadata": {},
   "outputs": [],
   "source": [
    "\n",
    "import json\n",
    "from datetime import date, datetime, timedelta\n",
    "from time import time\n",
    "import pytz\n",
    "\n",
    "\n",
    "\n",
    "limit1 = datetime.strptime(\"9:00:00\", \"%H:%M:%S\").time()\n",
    "limit2 = datetime.strptime(\"20:00:00\", \"%H:%M:%S\").time()\n",
    "limit3 = datetime.strptime(\"12:00:00\", \"%H:%M:%S\").time()\n",
    "\n",
    "\n",
    "\n",
    "doctor_time_tables = {\n",
    "    \"Dr. João Santos\": {\"monday\": {'start': '09:00:00', 'end': \"13:00:00\"}, \"wednesday\": {'start': '18:00:00','end': \"20:00:00\"}},\n",
    "    \"Dr. Miguel Costa\": {\"monday\": {'start': \"13:30:00\", 'end': \"17:30:00\"}, \"thursday\": {'start': '09:00:00', 'end': \"13:00:00\"}},\n",
    "    \"Dra. Sofia Pereira\": {\"monday\": {'start': \"18:00:00\", 'end': \"20:00:00\"}, \"thursday\": {'start': '13:30:00', 'end': \"17:30:00\"}},\n",
    "    \"Dra. Mariana Chagas\": {\"tuesday\": {'start': \"09:00:00\", 'end': \"13:00:00\"}, \"thursday\": {'start': '18:00:00', 'end': \"20:00:00\"}},\n",
    "    \"Dr. António Oliveira\": {\"tuesday\": {'start': \"13:30:00\", 'end': \"17:30:00\"}, \"friday\": {'start': '09:00:00', 'end': \"13:00:00\"}},\n",
    "    \"Dra. Inês Martins\": {\"tuesday\": {'start': \"18:00:00\", 'end': \"20:00:00\"}, \"friday\": {'start': '13:30:00', 'end': \"17:30:00\"}},\n",
    "    \"Dr. Ângelo Rodrigues\": {\"wednesday\": {'start': \"09:00:00\", 'end': \"13:00:00\"}, \"friday\": {'start': '18:00:00', 'end': \"20:00:00\"}},\n",
    "    \"Dr. José Dias\": {\"wednesday\": {'start': \"13:30:00\", 'end': \"17:30:00\"}, \"saturday\": {'start': '09:00:00', 'end': \"12:00:00\"}},\n",
    "}\n"
   ]
  },
  {
   "cell_type": "code",
   "execution_count": 19,
   "metadata": {},
   "outputs": [],
   "source": [
    "def is_time_in_range(selected_time, time_list):\n",
    "    selected_time = datetime.strptime(selected_time, \"%H:%M:%S\").time()\n",
    "    \n",
    "    for time in time_list:\n",
    "        time_obj = datetime.strptime(time, \"%H:%M:%S\").time()\n",
    "        if time_obj == selected_time:\n",
    "            return True\n",
    "    return False\n",
    "\n"
   ]
  },
  {
   "cell_type": "code",
   "execution_count": 6,
   "metadata": {},
   "outputs": [],
   "source": [
    "def get_available_time_slots(doctor, day):\n",
    "    # Function to get available time slots for a specific doctor on a given day\n",
    "    doctor_schedule = doctor_time_tables.get(doctor, {}).get(day, {})\n",
    "    \n",
    "    if not doctor_schedule:\n",
    "        return []\n",
    "\n",
    "    start_time = datetime.strptime(doctor_schedule.get('start', '00:00:00'), \"%H:%M:%S\").time()\n",
    "    end_time = datetime.strptime(doctor_schedule.get('end', '23:59:59'), \"%H:%M:%S\").time()\n",
    "\n",
    "    available_times = []\n",
    "    current_time = start_time\n",
    "\n",
    "    while current_time <= end_time:\n",
    "        available_times.append(current_time.strftime(\"%H:%M:%S\"))\n",
    "        current_time = (datetime.combine(date.today(), current_time) + timedelta(minutes=30)).time()\n",
    "\n",
    "    return available_times"
   ]
  },
  {
   "cell_type": "code",
   "execution_count": 7,
   "metadata": {},
   "outputs": [],
   "source": [
    "def get_available_times_message(doctor, day):\n",
    "    available_times = get_available_time_slots(doctor, day)\n",
    "    if not available_times:\n",
    "        return f\"{doctor} is not available on {day}.\"\n",
    "    return f\"{doctor} is available on {day} at the following times: {', '.join(available_times)}.\"\n"
   ]
  },
  {
   "cell_type": "code",
   "execution_count": 49,
   "metadata": {},
   "outputs": [],
   "source": [
    "def choose_doctor_based_on_time(requested_time_str, requested_doctor, requested_date_str):\n",
    "    available_doctors = []\n",
    "    requested_date = datetime.strptime(requested_date_str, \"%Y-%m-%d\").strftime(\"%A\").lower()   # Monday\n",
    "    requested_time = datetime.strptime(requested_time_str, \"%H:%M:%S\").time()  # 09:00:00\n",
    "\n",
    "    for doctor, schedules in doctor_time_tables.items():\n",
    "        for day, time_range in schedules.items():\n",
    "            if day == requested_date:\n",
    "                start_time = datetime.strptime(time_range['start'], \"%H:%M:%S\").time()\n",
    "                end_time = datetime.strptime(time_range['end'], \"%H:%M:%S\").time()\n",
    "\n",
    "                if start_time <= requested_time <= end_time:\n",
    "                    available_doctors.append(doctor)\n",
    "\n",
    "    if not available_doctors:\n",
    "        return None  # No available doctors for the requested time\n",
    "\n",
    "    if requested_doctor in available_doctors:\n",
    "        return requested_doctor\n",
    "\n",
    "    return None  # The originally reques"
   ]
  },
  {
   "cell_type": "code",
   "execution_count": 50,
   "metadata": {},
   "outputs": [
    {
     "name": "stdout",
     "output_type": "stream",
     "text": [
      "monday\n",
      "Dr. João Santos\n",
      "{'start': '09:00:00', 'end': '13:00:00'}\n",
      "Dr. João Santos\n"
     ]
    }
   ],
   "source": [
    "updated_doctor = choose_doctor_based_on_time('09:00:00', 'Dr. João Santos', '2024-01-01')\n",
    "print(updated_doctor)"
   ]
  }
 ],
 "metadata": {
  "kernelspec": {
   "display_name": "Python 3",
   "language": "python",
   "name": "python3"
  },
  "language_info": {
   "codemirror_mode": {
    "name": "ipython",
    "version": 3
   },
   "file_extension": ".py",
   "mimetype": "text/x-python",
   "name": "python",
   "nbconvert_exporter": "python",
   "pygments_lexer": "ipython3",
   "version": "3.11.5"
  }
 },
 "nbformat": 4,
 "nbformat_minor": 2
}
