{
 "cells": [
  {
   "cell_type": "code",
   "execution_count": 3,
   "metadata": {},
   "outputs": [],
   "source": [
    "\n",
    "import json\n",
    "from datetime import date, datetime, timedelta\n",
    "from time import time\n",
    "import pytz\n",
    "\n",
    "\n",
    "\n",
    "limit1 = datetime.strptime(\"9:00:00\", \"%H:%M:%S\").time()\n",
    "limit2 = datetime.strptime(\"20:00:00\", \"%H:%M:%S\").time()\n",
    "limit3 = datetime.strptime(\"12:00:00\", \"%H:%M:%S\").time()\n",
    "\n",
    "\n",
    "\n",
    "doctor_time_tables = {\n",
    "    \"Dr. João Santos\": {\"monday\": {'start': '09:00:00', 'end': \"13:00:00\"}, \"wednesday\": {'start': '18:00:00','end': \"20:00:00\"}},\n",
    "    \"Dr. Miguel Costa\": {\"monday\": {'start': \"13:30:00\", 'end': \"17:30:00\"}, \"thursday\": {'start': '09:00:00', 'end': \"13:00:00\"}},\n",
    "    \"Dra. Sofia Pereira\": {\"monday\": {'start': \"18:00:00\", 'end': \"20:00:00\"}, \"thursday\": {'start': '13:30:00', 'end': \"17:30:00\"}},\n",
    "    \"Dra. Mariana Chagas\": {\"tuesday\": {'start': \"09:00:00\", 'end': \"13:00:00\"}, \"thursday\": {'start': '18:00:00', 'end': \"20:00:00\"}},\n",
    "    \"Dr. António Oliveira\": {\"tuesday\": {'start': \"13:30:00\", 'end': \"17:30:00\"}, \"friday\": {'start': '09:00:00', 'end': \"13:00:00\"}},\n",
    "    \"Dra. Inês Martins\": {\"tuesday\": {'start': \"18:00:00\", 'end': \"20:00:00\"}, \"friday\": {'start': '13:30:00', 'end': \"17:30:00\"}},\n",
    "    \"Dr. Ângelo Rodrigues\": {\"wednesday\": {'start': \"09:00:00\", 'end': \"13:00:00\"}, \"friday\": {'start': '18:00:00', 'end': \"20:00:00\"}},\n",
    "    \"Dr. José Dias\": {\"wednesday\": {'start': \"13:30:00\", 'end': \"17:30:00\"}, \"saturday\": {'start': '09:00:00', 'end': \"12:00:00\"}},\n",
    "}\n"
   ]
  },
  {
   "cell_type": "code",
   "execution_count": 4,
   "metadata": {},
   "outputs": [],
   "source": [
    "def is_time_in_range(selected_time, time_list):\n",
    "    selected_time = datetime.strptime(selected_time, \"%H:%M:%S\").time()\n",
    "    \n",
    "    for time in time_list:\n",
    "        time_obj = datetime.strptime(time, \"%H:%M:%S\").time()\n",
    "        if time_obj == selected_time:\n",
    "            return True\n",
    "    return False\n",
    "\n"
   ]
  },
  {
   "cell_type": "code",
   "execution_count": 5,
   "metadata": {},
   "outputs": [],
   "source": [
    "def get_available_time_slots(doctor, day):\n",
    "    # Function to get available time slots for a specific doctor on a given day\n",
    "    doctor_schedule = doctor_time_tables.get(doctor, {}).get(day, {})\n",
    "    \n",
    "    if not doctor_schedule:\n",
    "        return []\n",
    "\n",
    "    start_time = datetime.strptime(doctor_schedule.get('start', '00:00:00'), \"%H:%M:%S\").time()\n",
    "    end_time = datetime.strptime(doctor_schedule.get('end', '23:59:59'), \"%H:%M:%S\").time()\n",
    "\n",
    "    available_times = []\n",
    "    current_time = start_time\n",
    "\n",
    "    while current_time <= end_time:\n",
    "        available_times.append(current_time.strftime(\"%H:%M:%S\"))\n",
    "        current_time = (datetime.combine(date.today(), current_time) + timedelta(minutes=30)).time()\n",
    "\n",
    "    return available_times"
   ]
  },
  {
   "cell_type": "code",
   "execution_count": 6,
   "metadata": {},
   "outputs": [],
   "source": [
    "def get_available_times_message(doctor, day):\n",
    "    available_times = get_available_time_slots(doctor, day)\n",
    "    if not available_times:\n",
    "        return f\"{doctor} is not available on {day}.\"\n",
    "    return f\"{doctor} is available on {day} at the following times: {', '.join(available_times)}.\"\n"
   ]
  },
  {
   "cell_type": "code",
   "execution_count": 49,
   "metadata": {},
   "outputs": [],
   "source": [
    "def choose_doctor_based_on_time(requested_time_str, requested_doctor, requested_date_str):\n",
    "    available_doctors = []\n",
    "    requested_date = datetime.strptime(requested_date_str, \"%Y-%m-%d\").strftime(\"%A\").lower()   # Monday\n",
    "    requested_time = datetime.strptime(requested_time_str, \"%H:%M:%S\").time()  # 09:00:00\n",
    "\n",
    "    for doctor, schedules in doctor_time_tables.items():\n",
    "        for day, time_range in schedules.items():\n",
    "            if day == requested_date:\n",
    "                start_time = datetime.strptime(time_range['start'], \"%H:%M:%S\").time()\n",
    "                end_time = datetime.strptime(time_range['end'], \"%H:%M:%S\").time()\n",
    "\n",
    "                if start_time <= requested_time <= end_time:\n",
    "                    available_doctors.append(doctor)\n",
    "\n",
    "    if not available_doctors:\n",
    "        return None  # No available doctors for the requested time\n",
    "\n",
    "    if requested_doctor in available_doctors:\n",
    "        return requested_doctor\n",
    "\n",
    "    return None  # The originally reques"
   ]
  },
  {
   "cell_type": "code",
   "execution_count": null,
   "metadata": {},
   "outputs": [],
   "source": [
    "def doctor_checking(arguments):\n",
    "    provided_date =  str(datetime.strptime(json.loads(arguments)['date'], \"%Y-%m-%d\").date())\n",
    "    provided_time = str(datetime.strptime(json.loads(arguments)['time'].replace(\"PM\",\"\").replace(\"AM\",\"\").strip(), \"%H:%M:%S\").time())\n",
    "    start_date_time = provided_date + \" \" + provided_time\n",
    "    timezone = pytz.timezone('Europe/Lisbon')\n",
    "    start_date_time = timezone.localize(datetime.strptime(start_date_time, \"%Y-%m-%d %H:%M:%S\"))\n",
    "    email_address = json.loads(arguments)['email_address']\n",
    "    doctor = json.loads(arguments)['doctor']\n",
    "    end_date_time = start_date_time + timedelta(hours=0.5)\n",
    "\n",
    "    \n",
    "    existing_doctors = [\"Dr. João Santos\", \"Dr. Miguel Costa\", \"Dra. Sofia Pereira\", 'Dra. Mariana Chagas', 'Dr. António Oliveira',\n",
    "                            'Dra. Inês Martins', 'Dr. Ângelo Rodrigues', 'Dr. José Dias']\n",
    "\n",
    "\n",
    "    if doctor is not None:\n",
    "        if doctor not in existing_doctors:\n",
    "            return \"Please choose a valid doctor from the list: \" + \", \".join(existing_doctors)\n",
    "                \n",
    "        day_of_week = start_date_time.strftime(\"%A\").lower()\n",
    "        doctor_schedule = get_available_time_slots(doctor, day_of_week)\n",
    "\n",
    "        if not doctor_schedule or not is_time_in_range(provided_time, doctor_schedule):\n",
    "            available_times_message = get_available_times_message(doctor, day_of_week)\n",
    "            \n",
    "            return f\"{doctor} is not available at the selected time. {available_times_message} Please choose a valid time.\"\n",
    "        else:\n",
    "            # Choose a doctor based on the requested time\n",
    "            requested_time = start_date_time.time().strftime(\"%H:%M:%S\")\n",
    "            updated_doctor = choose_doctor_based_on_time(requested_time, doctor, provided_date)\n",
    "            if updated_doctor is None:\n",
    "                return False\n",
    "            # Update the 'doctor' variable with the chosen doctor\n",
    "            #doctor = updated_doctor\n",
    "            # Confirm the appointment\n",
    "            return True\n",
    "\n"
   ]
  },
  {
   "cell_type": "code",
   "execution_count": 12,
   "metadata": {},
   "outputs": [],
   "source": [
    "doctor_schedule = get_available_time_slots('Dr. João Santos', 'monday')"
   ]
  },
  {
   "cell_type": "code",
   "execution_count": 13,
   "metadata": {},
   "outputs": [
    {
     "data": {
      "text/plain": [
       "False"
      ]
     },
     "execution_count": 13,
     "metadata": {},
     "output_type": "execute_result"
    }
   ],
   "source": [
    "is_time_in_range('17:00:00', doctor_schedule)"
   ]
  },
  {
   "cell_type": "code",
   "execution_count": 18,
   "metadata": {},
   "outputs": [
    {
     "name": "stdout",
     "output_type": "stream",
     "text": [
      "Dr. João Santos is not available at the selected time. Dr. João Santos is available on monday at the following times: 09:00:00, 09:30:00, 10:00:00, 10:30:00, 11:00:00, 11:30:00, 12:00:00, 12:30:00, 13:00:00. Please choose a valid time.\n"
     ]
    }
   ],
   "source": [
    "timezone = pytz.timezone('Europe/Lisbon')\n",
    "doctor = 'Dr. João Santos'\n",
    "provided_time = '17:00:00'\n",
    "provided_date = datetime.strptime('2024-01-01', \"%Y-%m-%d\").date()\n",
    "start_date_time = datetime.combine(provided_date, datetime.strptime(provided_time, \"%H:%M:%S\").time())\n",
    "start_date_time = timezone.localize(start_date_time)\n",
    "\n",
    "\n",
    "if not doctor_schedule or not is_time_in_range(provided_time, doctor_schedule):\n",
    "        available_times_message = get_available_times_message(doctor, 'monday')\n",
    "        print(f\"{doctor} is not available at the selected time. {available_times_message} Please choose a valid time.\")\n",
    "else:\n",
    "        # Choose a doctor based on the requested time\n",
    "        requested_time = start_date_time.time().strftime(\"%H:%M:%S\")\n",
    "        updated_doctor = choose_doctor_based_on_time(requested_time, doctor, provided_date)\n",
    "        if updated_doctor is None:\n",
    "                print(False)"
   ]
  },
  {
   "cell_type": "code",
   "execution_count": null,
   "metadata": {},
   "outputs": [],
   "source": [
    "is_time_in_range()"
   ]
  },
  {
   "cell_type": "code",
   "execution_count": 50,
   "metadata": {},
   "outputs": [
    {
     "name": "stdout",
     "output_type": "stream",
     "text": [
      "monday\n",
      "Dr. João Santos\n",
      "{'start': '09:00:00', 'end': '13:00:00'}\n",
      "Dr. João Santos\n"
     ]
    }
   ],
   "source": [
    "updated_doctor = choose_doctor_based_on_time('09:00:00', 'Dr. João Santos', '2024-01-01')\n",
    "print(updated_doctor)"
   ]
  },
  {
   "cell_type": "code",
   "execution_count": 2,
   "metadata": {},
   "outputs": [
    {
     "ename": "ModuleNotFoundError",
     "evalue": "No module named 'googleapiclient'",
     "output_type": "error",
     "traceback": [
      "\u001b[1;31m---------------------------------------------------------------------------\u001b[0m",
      "\u001b[1;31mModuleNotFoundError\u001b[0m                       Traceback (most recent call last)",
      "Cell \u001b[1;32mIn[2], line 4\u001b[0m\n\u001b[0;32m      2\u001b[0m \u001b[38;5;28;01mfrom\u001b[39;00m \u001b[38;5;21;01mdatetime\u001b[39;00m \u001b[38;5;28;01mimport\u001b[39;00m date, datetime, timedelta\n\u001b[0;32m      3\u001b[0m \u001b[38;5;28;01mfrom\u001b[39;00m \u001b[38;5;21;01mtime\u001b[39;00m \u001b[38;5;28;01mimport\u001b[39;00m time\n\u001b[1;32m----> 4\u001b[0m \u001b[38;5;28;01mfrom\u001b[39;00m \u001b[38;5;21;01mgoogleapiclient\u001b[39;00m\u001b[38;5;21;01m.\u001b[39;00m\u001b[38;5;21;01mdiscovery\u001b[39;00m \u001b[38;5;28;01mimport\u001b[39;00m build\n\u001b[0;32m      5\u001b[0m \u001b[38;5;28;01mfrom\u001b[39;00m \u001b[38;5;21;01mgoogle\u001b[39;00m\u001b[38;5;21;01m.\u001b[39;00m\u001b[38;5;21;01moauth2\u001b[39;00m\u001b[38;5;21;01m.\u001b[39;00m\u001b[38;5;21;01mcredentials\u001b[39;00m \u001b[38;5;28;01mimport\u001b[39;00m Credentials\n\u001b[0;32m      6\u001b[0m \u001b[38;5;28;01mimport\u001b[39;00m \u001b[38;5;21;01mpytz\u001b[39;00m\n",
      "\u001b[1;31mModuleNotFoundError\u001b[0m: No module named 'googleapiclient'"
     ]
    }
   ],
   "source": [
    "import json\n",
    "from datetime import date, datetime, timedelta\n",
    "from time import time\n",
    "from googleapiclient.discovery import build\n",
    "from google.oauth2.credentials import Credentials\n",
    "import pytz\n",
    "from util import local_settings"
   ]
  },
  {
   "cell_type": "code",
   "execution_count": 6,
   "metadata": {},
   "outputs": [
    {
     "ename": "ModuleNotFoundError",
     "evalue": "No module named 'google'",
     "output_type": "error",
     "traceback": [
      "\u001b[1;31m---------------------------------------------------------------------------\u001b[0m",
      "\u001b[1;31mModuleNotFoundError\u001b[0m                       Traceback (most recent call last)",
      "Cell \u001b[1;32mIn[6], line 1\u001b[0m\n\u001b[1;32m----> 1\u001b[0m \u001b[38;5;28;01mfrom\u001b[39;00m \u001b[38;5;21;01mgoogle\u001b[39;00m\u001b[38;5;21;01m.\u001b[39;00m\u001b[38;5;21;01mauth\u001b[39;00m\u001b[38;5;21;01m.\u001b[39;00m\u001b[38;5;21;01mtransport\u001b[39;00m\u001b[38;5;21;01m.\u001b[39;00m\u001b[38;5;21;01mrequests\u001b[39;00m \u001b[38;5;28;01mimport\u001b[39;00m Request\n\u001b[0;32m      2\u001b[0m \u001b[38;5;28;01mfrom\u001b[39;00m \u001b[38;5;21;01mgoogle\u001b[39;00m\u001b[38;5;21;01m.\u001b[39;00m\u001b[38;5;21;01moauth2\u001b[39;00m\u001b[38;5;21;01m.\u001b[39;00m\u001b[38;5;21;01mcredentials\u001b[39;00m \u001b[38;5;28;01mimport\u001b[39;00m Credentials\n\u001b[0;32m      3\u001b[0m \u001b[38;5;28;01mfrom\u001b[39;00m \u001b[38;5;21;01mgoogle_auth_oauthlib\u001b[39;00m\u001b[38;5;21;01m.\u001b[39;00m\u001b[38;5;21;01mflow\u001b[39;00m \u001b[38;5;28;01mimport\u001b[39;00m InstalledAppFlow\n",
      "\u001b[1;31mModuleNotFoundError\u001b[0m: No module named 'google'"
     ]
    }
   ],
   "source": [
    "from google.auth.transport.requests import Request\n",
    "from google.oauth2.credentials import Credentials\n",
    "from google_auth_oauthlib.flow import InstalledAppFlow\n",
    "from googleapiclient.discovery import build\n",
    "from googleapiclient.errors import HttpError"
   ]
  },
  {
   "cell_type": "code",
   "execution_count": 2,
   "metadata": {},
   "outputs": [
    {
     "ename": "ModuleNotFoundError",
     "evalue": "No module named 'googleapiclient'",
     "output_type": "error",
     "traceback": [
      "\u001b[1;31m---------------------------------------------------------------------------\u001b[0m",
      "\u001b[1;31mModuleNotFoundError\u001b[0m                       Traceback (most recent call last)",
      "Cell \u001b[1;32mIn[2], line 1\u001b[0m\n\u001b[1;32m----> 1\u001b[0m \u001b[38;5;28;01mfrom\u001b[39;00m \u001b[38;5;21;01mgoogleapiclient\u001b[39;00m\u001b[38;5;21;01m.\u001b[39;00m\u001b[38;5;21;01mdiscovery\u001b[39;00m \u001b[38;5;28;01mimport\u001b[39;00m build\n\u001b[0;32m      2\u001b[0m \u001b[38;5;28;01mfrom\u001b[39;00m \u001b[38;5;21;01mgoogle\u001b[39;00m\u001b[38;5;21;01m.\u001b[39;00m\u001b[38;5;21;01moauth2\u001b[39;00m\u001b[38;5;21;01m.\u001b[39;00m\u001b[38;5;21;01mcredentials\u001b[39;00m \u001b[38;5;28;01mimport\u001b[39;00m Credentials\n\u001b[0;32m      4\u001b[0m timezone \u001b[38;5;241m=\u001b[39m pytz\u001b[38;5;241m.\u001b[39mtimezone(\u001b[38;5;124m'\u001b[39m\u001b[38;5;124mEurope/Lisbon\u001b[39m\u001b[38;5;124m'\u001b[39m)\n",
      "\u001b[1;31mModuleNotFoundError\u001b[0m: No module named 'googleapiclient'"
     ]
    }
   ],
   "source": [
    "from googleapiclient.discovery import build\n",
    "from google.oauth2.credentials import Credentials\n",
    "\n",
    "timezone = pytz.timezone('Europe/Lisbon')\n",
    "doctor = 'Dr. João Santos'\n",
    "provided_time = '13:00:00'\n",
    "provided_date = datetime.strptime('2024-01-01', \"%Y-%m-%d\").date()\n",
    "start_date_time = datetime.combine(provided_date, datetime.strptime(provided_time, \"%H:%M:%S\").time())\n",
    "start_date_time = timezone.localize(start_date_time)\n",
    "email_address = 'catioli@hotmail.com'\n",
    "\n",
    "\n",
    "if start_date_time.time() >= limit1 and start_date_time.time() <= limit2: #Day of the week\n",
    "                        end_date_time = start_date_time + timedelta(hours=2)\n",
    "                        events = service.events().list(calendarId=\"primary\").execute()\n",
    "                        id = \"\"\n",
    "                        final_event = None\n",
    "                        for event in events['items']:\n",
    "                            if event['attendees'][0]['email'] == email_address:\n",
    "                                id = event['id']\n",
    "                                final_event = event\n"
   ]
  }
 ],
 "metadata": {
  "kernelspec": {
   "display_name": "Python 3",
   "language": "python",
   "name": "python3"
  },
  "language_info": {
   "codemirror_mode": {
    "name": "ipython",
    "version": 3
   },
   "file_extension": ".py",
   "mimetype": "text/x-python",
   "name": "python",
   "nbconvert_exporter": "python",
   "pygments_lexer": "ipython3",
   "version": "3.11.5"
  }
 },
 "nbformat": 4,
 "nbformat_minor": 2
}
